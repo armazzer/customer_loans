{
 "cells": [
  {
   "cell_type": "code",
   "execution_count": 46,
   "metadata": {},
   "outputs": [],
   "source": [
    "import pandas as pd\n",
    "import numpy as np\n",
    "from datetime import datetime\n",
    "import missingno as msno"
   ]
  },
  {
   "cell_type": "code",
   "execution_count": 1,
   "metadata": {},
   "outputs": [
    {
     "name": "stdout",
     "output_type": "stream",
     "text": [
      "(54231, 43)\n"
     ]
    }
   ],
   "source": [
    "import load_data as data\n",
    "\n",
    "loans = data.loans\n",
    "print(loans.shape)"
   ]
  },
  {
   "cell_type": "code",
   "execution_count": 107,
   "metadata": {},
   "outputs": [],
   "source": [
    "class DataTransform:\n",
    "    def __init__(self, series):\n",
    "        self.series = series \n",
    "\n",
    "    def return_series(self):\n",
    "        return self.series\n",
    "\n",
    "    def display_series(self):\n",
    "        print(self.series.head(3))\n",
    "        print(\"Non-null count:\", self.series.count())\n",
    "        return self\n",
    "\n",
    "    def to_date(self, date_format):\n",
    "        self.date_format = date_format\n",
    "        self.series = pd.to_datetime(self.series, format=date_format)\n",
    "        # Format the result as ISO dates with month precision\n",
    "        self.series = self.series.dt.strftime(\"%Y-%m\")\n",
    "        return self\n",
    "    \n",
    "    def to_timedelta(self):\n",
    "        int_series = self.series.apply(lambda x: int(x) if not pd.isna(x) else pd.NaT)\n",
    "        days_in_month = 30\n",
    "        timedelta_arr = np.where(int_series.notna(), pd.to_timedelta(int_series * days_in_month, unit='D'), pd.NaT)\n",
    "        timedelta_ser = pd.Series(timedelta_arr)\n",
    "        self.series = timedelta_ser.astype('timedelta64[s]')\n",
    "        return self\n",
    "\n",
    "    def to_category(self):\n",
    "        self.series = self.series.astype('category')\n",
    "        return self\n",
    "\n",
    "    def to_num(self):\n",
    "        self.series = pd.to_numeric(self.series, errors='coerce')\n",
    "        return self\n",
    "    \n",
    "    def round(self):\n",
    "        self.series = self.series.round(0)\n",
    "        return self\n",
    "    \n",
    "    def to_int(self):\n",
    "        self.series = self.series.astype('int64')\n",
    "        return self\n",
    "    # This will only work if there are no missing values, because the type of NaN is float.\n",
    "\n",
    "    def split_value(self):\n",
    "        self.series = self.series.apply(lambda x: x.split()[0] if isinstance(x, str) else x)\n",
    "        return self\n"
   ]
  },
  {
   "cell_type": "code",
   "execution_count": 115,
   "metadata": {},
   "outputs": [
    {
     "name": "stdout",
     "output_type": "stream",
     "text": [
      "Initial data non-null count: 7499\n",
      "0   150 days 00:00:00\n",
      "1                 NaT\n",
      "2                 NaT\n",
      "dtype: timedelta64[s]\n",
      "Non-null count: 7499\n"
     ]
    }
   ],
   "source": [
    "# Convert 'mths_since_last_major_derog' from float to timedelta.\n",
    "print(\"Initial data non-null count:\", loans[\"mths_since_last_major_derog\"].count())\n",
    "mslmd_transform = DataTransform(loans[\"mths_since_last_major_derog\"])\n",
    "mslmd_timedelta = mslmd_transform.to_timedelta().display_series().return_series()\n",
    "loans[\"mths_since_last_major_derog\"] = mslmd_timedelta"
   ]
  },
  {
   "cell_type": "code",
   "execution_count": 112,
   "metadata": {},
   "outputs": [
    {
     "name": "stdout",
     "output_type": "stream",
     "text": [
      "Initial data non-null count: 54224\n",
      "0    2022-01\n",
      "1    2022-01\n",
      "2    2021-10\n",
      "Name: last_credit_pull_date, dtype: object\n",
      "Non-null count: 54224\n"
     ]
    }
   ],
   "source": [
    "# Convert 'last_credit_pull_date' from object to datetime64, format as date string YYYY-MM.\n",
    "print(\"Initial data non-null count:\", loans[\"last_credit_pull_date\"].count())\n",
    "last_credit_pull_date_transform = DataTransform(loans[\"last_credit_pull_date\"])\n",
    "last_credit_pull_iso = last_credit_pull_date_transform.to_date(\"%b-%Y\").display_series().return_series()\n",
    "loans[\"last_credit_pull_date\"] = last_credit_pull_iso"
   ]
  },
  {
   "cell_type": "code",
   "execution_count": 109,
   "metadata": {},
   "outputs": [
    {
     "name": "stdout",
     "output_type": "stream",
     "text": [
      "Initial data non-null count: 21623\n",
      "0    2022-02\n",
      "1    2022-02\n",
      "2        NaN\n",
      "Name: next_payment_date, dtype: object\n",
      "Non-null count: 21623\n"
     ]
    }
   ],
   "source": [
    "# Convert 'next_payment_date' from object to datetime64, format as date string YYYY-MM.\n",
    "print(\"Initial data non-null count:\", loans[\"next_payment_date\"].count())\n",
    "next_payment_date_transform = DataTransform(loans[\"next_payment_date\"])\n",
    "next_payment_iso = next_payment_date_transform.to_date(\"%b-%Y\").display_series().return_series()\n",
    "loans[\"next_payment_date\"] = next_payment_iso"
   ]
  },
  {
   "cell_type": "code",
   "execution_count": 105,
   "metadata": {},
   "outputs": [
    {
     "name": "stdout",
     "output_type": "stream",
     "text": [
      "0    2022-01\n",
      "1    2022-01\n",
      "2    2021-10\n",
      "Name: last_payment_date, dtype: object\n",
      "54158\n"
     ]
    }
   ],
   "source": [
    "# Convert 'last_payment_date' from object to datetime64, format as date string YYYY-MM.\n",
    "last_payment_date_transform = DataTransform(loans[\"last_payment_date\"])\n",
    "last_payment_iso = last_payment_date_transform.to_date(\"%b-%Y\").display_series().return_series()\n",
    "loans[\"last_payment_date\"] = last_payment_iso"
   ]
  },
  {
   "cell_type": "code",
   "execution_count": 101,
   "metadata": {},
   "outputs": [
    {
     "name": "stdout",
     "output_type": "stream",
     "text": [
      "0   NaT\n",
      "1   NaT\n",
      "2   NaT\n",
      "dtype: timedelta64[s]\n",
      "6181\n"
     ]
    }
   ],
   "source": [
    "# Convert 'mths_since_last_record' from float to timedelta.\n",
    "mslr_transform = DataTransform(loans[\"mths_since_last_record\"])\n",
    "mslr_timedelta = mslr_transform.to_timedelta().display_series().return_series()\n",
    "loans[\"mths_since_last_record\"] = mslr_timedelta"
   ]
  },
  {
   "cell_type": "code",
   "execution_count": 96,
   "metadata": {},
   "outputs": [
    {
     "name": "stdout",
     "output_type": "stream",
     "text": [
      "0    150 days 00:00:00\n",
      "1                  NaT\n",
      "2   2070 days 00:00:00\n",
      "dtype: timedelta64[s]\n",
      "23229\n"
     ]
    }
   ],
   "source": [
    "# Convert 'mths_since_last_delinq' from float to timedelta.\n",
    "msld_transform = DataTransform(loans[\"mths_since_last_delinq\"])\n",
    "msld_timedelta = msld_transform.to_timedelta().display_series().return_series()\n",
    "loans[\"mths_since_last_delinq\"] = msld_timedelta"
   ]
  },
  {
   "cell_type": "code",
   "execution_count": 81,
   "metadata": {},
   "outputs": [
    {
     "name": "stdout",
     "output_type": "stream",
     "text": [
      "0    1987-10\n",
      "1    2001-09\n",
      "2    1998-09\n",
      "Name: earliest_credit_line, dtype: object\n",
      "54231\n"
     ]
    }
   ],
   "source": [
    "# Convert 'earliest_credit_line' from object to datetime64, format as date string YYYY-MM\n",
    "earliest_credit_line_transform = DataTransform(loans[\"earliest_credit_line\"])\n",
    "earliest_credit_line_iso = earliest_credit_line_transform.to_date(\"%b-%Y\").display_series().return_series()\n",
    "loans[\"earliest_credit_line\"] = earliest_credit_line_iso"
   ]
  },
  {
   "cell_type": "code",
   "execution_count": 78,
   "metadata": {},
   "outputs": [
    {
     "name": "stdout",
     "output_type": "stream",
     "text": [
      "0    n\n",
      "1    n\n",
      "2    n\n",
      "Name: payment_plan, dtype: category\n",
      "Categories (2, object): ['n', 'y']\n",
      "54231\n"
     ]
    }
   ],
   "source": [
    "# Convert 'payment_plan' from object to category datatype.\n",
    "payment_plan_transform = DataTransform(loans[\"payment_plan\"])\n",
    "payment_plan_cat = payment_plan_transform.to_category().display_series().return_series()\n",
    "loans[\"payment_plan\"] = payment_plan_cat"
   ]
  },
  {
   "cell_type": "code",
   "execution_count": 74,
   "metadata": {},
   "outputs": [
    {
     "name": "stdout",
     "output_type": "stream",
     "text": [
      "0    2021-01\n",
      "1    2021-01\n",
      "2    2021-01\n",
      "Name: issue_date, dtype: object\n",
      "54231\n",
      "object\n"
     ]
    }
   ],
   "source": [
    "# Convert 'issue_date' from object to datetime64, format as date string YYYY-MM\n",
    "issue_date_transform = DataTransform(loans[\"issue_date\"])\n",
    "issue_date_iso = issue_date_transform.to_date(\"%b-%Y\").display_series().return_series()\n",
    "print(issue_date_iso.dtypes)"
   ]
  },
  {
   "cell_type": "code",
   "execution_count": 75,
   "metadata": {},
   "outputs": [],
   "source": [
    "loans[\"issue_date\"] = issue_date_iso"
   ]
  },
  {
   "cell_type": "code",
   "execution_count": 53,
   "metadata": {},
   "outputs": [
    {
     "name": "stdout",
     "output_type": "stream",
     "text": [
      "0    MORTGAGE\n",
      "1        RENT\n",
      "2    MORTGAGE\n",
      "Name: home_ownership, dtype: category\n",
      "Categories (5, object): ['MORTGAGE', 'NONE', 'OTHER', 'OWN', 'RENT']\n",
      "54231\n"
     ]
    }
   ],
   "source": [
    "# Convert 'home_ownership' from object to category\n",
    "home_ownership_transform = DataTransform(loans[\"home_ownership\"])\n",
    "home_ownership_cat = home_ownership_transform.to_category().display_series().return_series()"
   ]
  },
  {
   "cell_type": "code",
   "execution_count": 54,
   "metadata": {},
   "outputs": [],
   "source": [
    "loans[\"home_ownership\"] = home_ownership_cat"
   ]
  },
  {
   "cell_type": "code",
   "execution_count": 49,
   "metadata": {},
   "outputs": [
    {
     "name": "stdout",
     "output_type": "stream",
     "text": [
      "0    5 years\n",
      "1    9 years\n",
      "2    8 years\n",
      "Name: employment_length, dtype: category\n",
      "Categories (11, object): ['1 year', '10+ years', '2 years', '3 years', ..., '7 years', '8 years', '9 years', '< 1 year']\n",
      "52113\n"
     ]
    }
   ],
   "source": [
    "# Convert 'employment_length' from object to category datatype. \n",
    "# Would prefer to drop years and make ordinal, but values are awkward.\n",
    "employment_length_transform = DataTransform(loans[\"employment_length\"])\n",
    "employment_length_years = employment_length_transform.to_category().display_series().return_series()"
   ]
  },
  {
   "cell_type": "code",
   "execution_count": 51,
   "metadata": {},
   "outputs": [],
   "source": [
    "loans[\"employment_length\"] = employment_length_years"
   ]
  },
  {
   "cell_type": "code",
   "execution_count": 40,
   "metadata": {},
   "outputs": [
    {
     "name": "stdout",
     "output_type": "stream",
     "text": [
      "0    A4\n",
      "1    A3\n",
      "2    A4\n",
      "Name: sub_grade, dtype: category\n",
      "Categories (35, object): ['A1', 'A2', 'A3', 'A4', ..., 'G2', 'G3', 'G4', 'G5']\n",
      "54231\n"
     ]
    }
   ],
   "source": [
    "# Convert sub_grade from object to category datatype.\n",
    "subgrade_transform = DataTransform(loans[\"sub_grade\"])\n",
    "subgrade_cat = subgrade_transform.to_category().display_series().return_series()"
   ]
  },
  {
   "cell_type": "code",
   "execution_count": 41,
   "metadata": {},
   "outputs": [],
   "source": [
    "loans[\"sub_grade\"] = subgrade_cat"
   ]
  },
  {
   "cell_type": "code",
   "execution_count": null,
   "metadata": {},
   "outputs": [],
   "source": [
    "# From series \"term\": remove 'months' part of string and convert to numeric datatype.\n",
    "transform_term = DataTransform(loans[\"term\"])\n",
    "# Create as new column\n",
    "loans[\"term_months\"] = transform_term.split_value().to_num().round().display_series().return_series()"
   ]
  },
  {
   "cell_type": "code",
   "execution_count": null,
   "metadata": {},
   "outputs": [],
   "source": [
    "# Replace original column\n",
    "loans[\"term\"] = loans[\"term_months\"]"
   ]
  },
  {
   "cell_type": "code",
   "execution_count": null,
   "metadata": {},
   "outputs": [],
   "source": [
    "# Remove redundant column\n",
    "loans = loans.drop(columns=[\"term_months\"])"
   ]
  },
  {
   "cell_type": "code",
   "execution_count": 23,
   "metadata": {},
   "outputs": [
    {
     "name": "stdout",
     "output_type": "stream",
     "text": [
      "0    A\n",
      "1    A\n",
      "2    A\n",
      "3    C\n",
      "4    A\n",
      "Name: grade, dtype: category\n",
      "Categories (7, object): ['A', 'B', 'C', 'D', 'E', 'F', 'G']\n"
     ]
    }
   ],
   "source": [
    "# Convert series 'grade' to category datatype. \n",
    "transform_grade = DataTransform(loans[\"grade\"])\n",
    "loans[\"grade_cat\"] = transform_grade.to_category().display_series().return_series()"
   ]
  },
  {
   "cell_type": "code",
   "execution_count": 25,
   "metadata": {},
   "outputs": [],
   "source": [
    "loans[\"grade\"] = loans[\"grade_cat\"]\n",
    "loans = loans.drop(columns=[\"grade_cat\"])"
   ]
  },
  {
   "cell_type": "code",
   "execution_count": 116,
   "metadata": {},
   "outputs": [
    {
     "name": "stdout",
     "output_type": "stream",
     "text": [
      "<class 'pandas.core.frame.DataFrame'>\n",
      "Index: 54231 entries, 0 to 54230\n",
      "Data columns (total 43 columns):\n",
      " #   Column                       Non-Null Count  Dtype         \n",
      "---  ------                       --------------  -----         \n",
      " 0   id                           54231 non-null  int64         \n",
      " 1   member_id                    54231 non-null  int64         \n",
      " 2   loan_amount                  54231 non-null  int64         \n",
      " 3   funded_amount                51224 non-null  float64       \n",
      " 4   funded_amount_inv            54231 non-null  float64       \n",
      " 5   term                         49459 non-null  float64       \n",
      " 6   int_rate                     49062 non-null  float64       \n",
      " 7   instalment                   54231 non-null  float64       \n",
      " 8   grade                        54231 non-null  category      \n",
      " 9   sub_grade                    54231 non-null  category      \n",
      " 10  employment_length            52113 non-null  category      \n",
      " 11  home_ownership               54231 non-null  category      \n",
      " 12  annual_inc                   54231 non-null  float64       \n",
      " 13  verification_status          54231 non-null  object        \n",
      " 14  issue_date                   54231 non-null  object        \n",
      " 15  loan_status                  54231 non-null  object        \n",
      " 16  payment_plan                 54231 non-null  category      \n",
      " 17  purpose                      54231 non-null  object        \n",
      " 18  dti                          54231 non-null  float64       \n",
      " 19  delinq_2yrs                  54231 non-null  int64         \n",
      " 20  earliest_credit_line         54231 non-null  object        \n",
      " 21  inq_last_6mths               54231 non-null  int64         \n",
      " 22  mths_since_last_delinq       23229 non-null  timedelta64[s]\n",
      " 23  mths_since_last_record       6181 non-null   timedelta64[s]\n",
      " 24  open_accounts                54231 non-null  int64         \n",
      " 25  total_accounts               54231 non-null  int64         \n",
      " 26  out_prncp                    54231 non-null  float64       \n",
      " 27  out_prncp_inv                54231 non-null  float64       \n",
      " 28  total_payment                54231 non-null  float64       \n",
      " 29  total_payment_inv            54231 non-null  float64       \n",
      " 30  total_rec_prncp              54231 non-null  float64       \n",
      " 31  total_rec_int                54231 non-null  float64       \n",
      " 32  total_rec_late_fee           54231 non-null  float64       \n",
      " 33  recoveries                   54231 non-null  float64       \n",
      " 34  collection_recovery_fee      54231 non-null  float64       \n",
      " 35  last_payment_date            54158 non-null  object        \n",
      " 36  last_payment_amount          54231 non-null  float64       \n",
      " 37  next_payment_date            21623 non-null  object        \n",
      " 38  last_credit_pull_date        54224 non-null  object        \n",
      " 39  collections_12_mths_ex_med   54180 non-null  float64       \n",
      " 40  mths_since_last_major_derog  7499 non-null   timedelta64[s]\n",
      " 41  policy_code                  54231 non-null  int64         \n",
      " 42  application_type             54231 non-null  object        \n",
      "dtypes: category(5), float64(18), int64(8), object(9), timedelta64[s](3)\n",
      "memory usage: 16.4+ MB\n"
     ]
    }
   ],
   "source": [
    "# Check data here\n",
    "loans.info()"
   ]
  }
 ],
 "metadata": {
  "kernelspec": {
   "display_name": "base",
   "language": "python",
   "name": "python3"
  },
  "language_info": {
   "codemirror_mode": {
    "name": "ipython",
    "version": 3
   },
   "file_extension": ".py",
   "mimetype": "text/x-python",
   "name": "python",
   "nbconvert_exporter": "python",
   "pygments_lexer": "ipython3",
   "version": "3.11.4"
  }
 },
 "nbformat": 4,
 "nbformat_minor": 2
}
