{
 "cells": [
  {
   "cell_type": "code",
   "execution_count": null,
   "metadata": {},
   "outputs": [],
   "source": [
    "# Remove after fixing environment. \n",
    "%pip install pandas\n",
    "%pip install numpy\n",
    "%pip install datetime"
   ]
  },
  {
   "cell_type": "code",
   "execution_count": null,
   "metadata": {},
   "outputs": [],
   "source": [
    "# Remove after fixing environment. \n",
    "%conda install pandas\n",
    "%conda install numpy\n",
    "%conda install datetime"
   ]
  },
  {
   "cell_type": "code",
   "execution_count": 2,
   "metadata": {},
   "outputs": [
    {
     "name": "stdout",
     "output_type": "stream",
     "text": [
      "(54231, 43)\n"
     ]
    }
   ],
   "source": [
    "import pandas as pd\n",
    "\n",
    "def load_data():\n",
    "    loans = pd.read_csv(\"loan_payments.csv\", index_col=0)\n",
    "    return loans\n",
    "\n",
    "loans = load_data()\n",
    "\n",
    "print(loans.shape)\n"
   ]
  },
  {
   "cell_type": "code",
   "execution_count": 2,
   "metadata": {},
   "outputs": [],
   "source": [
    "import numpy as np"
   ]
  },
  {
   "cell_type": "code",
   "execution_count": 4,
   "metadata": {},
   "outputs": [
    {
     "data": {
      "text/plain": [
       "80"
      ]
     },
     "execution_count": 4,
     "metadata": {},
     "output_type": "execute_result"
    }
   ],
   "source": [
    "pd.get_option(\"display.width\")"
   ]
  },
  {
   "cell_type": "code",
   "execution_count": 5,
   "metadata": {},
   "outputs": [
    {
     "name": "stdout",
     "output_type": "stream",
     "text": [
      "         id  member_id  loan_amount  funded_amount  funded_amount_inv\n",
      "0  38676116   41461848         8000         8000.0             8000.0\n",
      "1  38656203   41440010        13200        13200.0            13200.0\n",
      "        term  int_rate  instalment grade sub_grade employment_length\n",
      "0  36 months      7.49      248.82     A        A4           5 years\n",
      "1  36 months      6.99      407.52     A        A3           9 years\n",
      "  home_ownership  annual_inc verification_status issue_date loan_status\n",
      "0       MORTGAGE     46000.0        Not Verified   Jan-2021     Current\n",
      "1           RENT     50000.0        Not Verified   Jan-2021     Current\n",
      "  payment_plan      purpose    dti  delinq_2yrs earliest_credit_line\n",
      "0            n  credit_card  19.54            2             Oct-1987\n",
      "1            n  credit_card  24.20            0             Sep-2001\n"
     ]
    }
   ],
   "source": [
    "slice_1 = loans.iloc[0:2, 0:5]\n",
    "slice_2 = loans.iloc[0:2, 5:11]\n",
    "slice_3 = loans.iloc[0:2, 11:16]\n",
    "slice_4 = loans.iloc[0:2, 16:21]\n",
    "print(slice_1)\n",
    "print(slice_2)\n",
    "print(slice_3)\n",
    "print(slice_4)"
   ]
  },
  {
   "cell_type": "code",
   "execution_count": 6,
   "metadata": {},
   "outputs": [
    {
     "name": "stdout",
     "output_type": "stream",
     "text": [
      "<class 'pandas.core.frame.DataFrame'>\n",
      "Index: 54231 entries, 0 to 54230\n",
      "Data columns (total 43 columns):\n",
      " #   Column                       Non-Null Count  Dtype  \n",
      "---  ------                       --------------  -----  \n",
      " 0   id                           54231 non-null  int64  \n",
      " 1   member_id                    54231 non-null  int64  \n",
      " 2   loan_amount                  54231 non-null  int64  \n",
      " 3   funded_amount                51224 non-null  float64\n",
      " 4   funded_amount_inv            54231 non-null  float64\n",
      " 5   term                         49459 non-null  object \n",
      " 6   int_rate                     49062 non-null  float64\n",
      " 7   instalment                   54231 non-null  float64\n",
      " 8   grade                        54231 non-null  object \n",
      " 9   sub_grade                    54231 non-null  object \n",
      " 10  employment_length            52113 non-null  object \n",
      " 11  home_ownership               54231 non-null  object \n",
      " 12  annual_inc                   54231 non-null  float64\n",
      " 13  verification_status          54231 non-null  object \n",
      " 14  issue_date                   54231 non-null  object \n",
      " 15  loan_status                  54231 non-null  object \n",
      " 16  payment_plan                 54231 non-null  object \n",
      " 17  purpose                      54231 non-null  object \n",
      " 18  dti                          54231 non-null  float64\n",
      " 19  delinq_2yrs                  54231 non-null  int64  \n",
      " 20  earliest_credit_line         54231 non-null  object \n",
      " 21  inq_last_6mths               54231 non-null  int64  \n",
      " 22  mths_since_last_delinq       23229 non-null  float64\n",
      " 23  mths_since_last_record       6181 non-null   float64\n",
      " 24  open_accounts                54231 non-null  int64  \n",
      " 25  total_accounts               54231 non-null  int64  \n",
      " 26  out_prncp                    54231 non-null  float64\n",
      " 27  out_prncp_inv                54231 non-null  float64\n",
      " 28  total_payment                54231 non-null  float64\n",
      " 29  total_payment_inv            54231 non-null  float64\n",
      " 30  total_rec_prncp              54231 non-null  float64\n",
      " 31  total_rec_int                54231 non-null  float64\n",
      " 32  total_rec_late_fee           54231 non-null  float64\n",
      " 33  recoveries                   54231 non-null  float64\n",
      " 34  collection_recovery_fee      54231 non-null  float64\n",
      " 35  last_payment_date            54158 non-null  object \n",
      " 36  last_payment_amount          54231 non-null  float64\n",
      " 37  next_payment_date            21623 non-null  object \n",
      " 38  last_credit_pull_date        54224 non-null  object \n",
      " 39  collections_12_mths_ex_med   54180 non-null  float64\n",
      " 40  mths_since_last_major_derog  7499 non-null   float64\n",
      " 41  policy_code                  54231 non-null  int64  \n",
      " 42  application_type             54231 non-null  object \n",
      "dtypes: float64(20), int64(8), object(15)\n",
      "memory usage: 18.2+ MB\n"
     ]
    }
   ],
   "source": [
    "loans.info()"
   ]
  },
  {
   "cell_type": "code",
   "execution_count": 7,
   "metadata": {},
   "outputs": [
    {
     "name": "stdout",
     "output_type": "stream",
     "text": [
      "id                              0.0\n",
      "member_id                       0.0\n",
      "loan_amount                     0.0\n",
      "funded_amount                   5.5\n",
      "funded_amount_inv               0.0\n",
      "term                            8.8\n",
      "int_rate                        9.5\n",
      "instalment                      0.0\n",
      "grade                           0.0\n",
      "sub_grade                       0.0\n",
      "employment_length               3.9\n",
      "home_ownership                  0.0\n",
      "annual_inc                      0.0\n",
      "verification_status             0.0\n",
      "issue_date                      0.0\n",
      "loan_status                     0.0\n",
      "payment_plan                    0.0\n",
      "purpose                         0.0\n",
      "dti                             0.0\n",
      "delinq_2yrs                     0.0\n",
      "earliest_credit_line            0.0\n",
      "inq_last_6mths                  0.0\n",
      "mths_since_last_delinq         57.2\n",
      "mths_since_last_record         88.6\n",
      "open_accounts                   0.0\n",
      "total_accounts                  0.0\n",
      "out_prncp                       0.0\n",
      "out_prncp_inv                   0.0\n",
      "total_payment                   0.0\n",
      "total_payment_inv               0.0\n",
      "total_rec_prncp                 0.0\n",
      "total_rec_int                   0.0\n",
      "total_rec_late_fee              0.0\n",
      "recoveries                      0.0\n",
      "collection_recovery_fee         0.0\n",
      "last_payment_date               0.1\n",
      "last_payment_amount             0.0\n",
      "next_payment_date              60.1\n",
      "last_credit_pull_date           0.0\n",
      "collections_12_mths_ex_med      0.1\n",
      "mths_since_last_major_derog    86.2\n",
      "policy_code                     0.0\n",
      "application_type                0.0\n",
      "dtype: float64\n"
     ]
    }
   ],
   "source": [
    "# Calculate the percentage of missing values in each column. \n",
    "print(((loans.isnull().mean()).round(3)) * 100)"
   ]
  },
  {
   "cell_type": "code",
   "execution_count": 8,
   "metadata": {},
   "outputs": [
    {
     "data": {
      "text/plain": [
       "array(['36 months', nan, '60 months'], dtype=object)"
      ]
     },
     "execution_count": 8,
     "metadata": {},
     "output_type": "execute_result"
    }
   ],
   "source": [
    "# Evaluate term series. \n",
    "loans[\"term\"].unique()"
   ]
  },
  {
   "cell_type": "code",
   "execution_count": 9,
   "metadata": {},
   "outputs": [
    {
     "name": "stdout",
     "output_type": "stream",
     "text": [
      "['36' nan '60']\n"
     ]
    }
   ],
   "source": [
    "# Function test - split string to remove word 'months'\n",
    "loans[\"term_months\"] = loans[\"term\"].apply(lambda x: x.split()[0] if type(x) == str else x)\n",
    "result = loans[\"term_months\"].unique()\n",
    "print(result)"
   ]
  },
  {
   "cell_type": "code",
   "execution_count": 10,
   "metadata": {},
   "outputs": [
    {
     "data": {
      "text/plain": [
       "0    36.0\n",
       "1    36.0\n",
       "2    36.0\n",
       "3    36.0\n",
       "4    36.0\n",
       "5    36.0\n",
       "6     NaN\n",
       "Name: term_months, dtype: float64"
      ]
     },
     "execution_count": 10,
     "metadata": {},
     "output_type": "execute_result"
    }
   ],
   "source": [
    "# Function test - convert from string object to numeric. Must be float, because of NaN entries. \n",
    "loans[\"term_months\"].convert_dtypes().dtype\n",
    "loans[\"term_months\"] = pd.to_numeric(loans[\"term_months\"], errors=\"ignore\")\n",
    "loans[\"term_months\"].head(7)"
   ]
  },
  {
   "cell_type": "code",
   "execution_count": 11,
   "metadata": {},
   "outputs": [
    {
     "name": "stdout",
     "output_type": "stream",
     "text": [
      "<class 'pandas.core.series.Series'>\n",
      "Index: 54231 entries, 0 to 54230\n",
      "Series name: employment_length\n",
      "Non-Null Count  Dtype \n",
      "--------------  ----- \n",
      "52113 non-null  object\n",
      "dtypes: object(1)\n",
      "memory usage: 847.4+ KB\n",
      "None\n",
      "employment_length\n",
      "10+ years    30.52\n",
      "2 years       9.72\n",
      "< 1 year      9.66\n",
      "3 years       8.81\n",
      "5 years       7.36\n",
      "1 year        7.12\n",
      "4 years       6.68\n",
      "6 years       5.87\n",
      "7 years       5.69\n",
      "8 years       4.87\n",
      "9 years       3.71\n",
      "Name: count, dtype: float64\n",
      "100.0\n"
     ]
    }
   ],
   "source": [
    "# Evaluate employment_length series. \n",
    "pd.set_option(\"display.precision\", 2)\n",
    "print(loans[\"employment_length\"].info())\n",
    "category_percent_emp_len = loans[\"employment_length\"].value_counts()/len(loans[\"employment_length\"].dropna())*100\n",
    "print(category_percent_emp_len)\n",
    "print(category_percent_emp_len.sum())"
   ]
  },
  {
   "cell_type": "code",
   "execution_count": 14,
   "metadata": {},
   "outputs": [
    {
     "name": "stdout",
     "output_type": "stream",
     "text": [
      "<class 'pandas.core.series.Series'>\n",
      "Index: 54231 entries, 0 to 54230\n",
      "Series name: home_ownership\n",
      "Non-Null Count  Dtype \n",
      "--------------  ----- \n",
      "54231 non-null  object\n",
      "dtypes: object(1)\n",
      "memory usage: 847.4+ KB\n",
      "None\n",
      "home_ownership\n",
      "MORTGAGE    49.645\n",
      "RENT        41.476\n",
      "OWN          8.759\n",
      "OTHER        0.116\n",
      "NONE         0.004\n",
      "Name: count, dtype: float64\n",
      "100.0\n"
     ]
    }
   ],
   "source": [
    "# Evaluate home_ownership series. \n",
    "pd.set_option(\"display.precision\", 3)\n",
    "print(loans[\"home_ownership\"].info())\n",
    "category_percent_home_own = loans[\"home_ownership\"].value_counts()/len(loans[\"home_ownership\"].dropna())*100\n",
    "print(category_percent_home_own)\n",
    "print(category_percent_home_own.sum())\n"
   ]
  },
  {
   "cell_type": "code",
   "execution_count": 15,
   "metadata": {},
   "outputs": [
    {
     "name": "stdout",
     "output_type": "stream",
     "text": [
      "verification_status\n",
      "Verified           38.321\n",
      "Not Verified       32.389\n",
      "Source Verified    29.290\n",
      "Name: count, dtype: float64\n"
     ]
    }
   ],
   "source": [
    "# Evaluate verification series. \n",
    "category_percent_verification = loans[\"verification_status\"].value_counts()/len(loans[\"verification_status\"].dropna())*100\n",
    "print(category_percent_verification)"
   ]
  },
  {
   "cell_type": "code",
   "execution_count": 21,
   "metadata": {},
   "outputs": [
    {
     "name": "stdout",
     "output_type": "stream",
     "text": [
      "object\n",
      "issue_date\n",
      "Dec-2019    7356\n",
      "Nov-2019    7026\n",
      "Oct-2019    6738\n",
      "Sep-2019    6080\n",
      "Jan-2021    4224\n",
      "            ... \n",
      "Aug-2013      35\n",
      "Sep-2014      34\n",
      "Sep-2013      25\n",
      "Jul-2013      21\n",
      "Jun-2013       2\n",
      "Name: count, Length: 61, dtype: int64\n"
     ]
    }
   ],
   "source": [
    "# Evaluate issue_date series.\n",
    "print(loans[\"issue_date\"].dtypes)\n",
    "print(loans[\"issue_date\"].value_counts())\n"
   ]
  },
  {
   "cell_type": "code",
   "execution_count": 23,
   "metadata": {},
   "outputs": [
    {
     "name": "stdout",
     "output_type": "stream",
     "text": [
      "loan_status\n",
      "Fully Paid                                             27037\n",
      "Current                                                19268\n",
      "Charged Off                                             5571\n",
      "Does not meet the credit policy. Status:Fully Paid       984\n",
      "Late (31-120 days)                                       580\n",
      "Does not meet the credit policy. Status:Charged Off      368\n",
      "In Grace Period                                          265\n",
      "Late (16-30 days)                                        106\n",
      "Default                                                   52\n",
      "Name: count, dtype: int64\n"
     ]
    }
   ],
   "source": [
    "# Evaluate loan_status series.\n",
    "print(loans[\"loan_status\"].value_counts())"
   ]
  },
  {
   "cell_type": "code",
   "execution_count": 24,
   "metadata": {},
   "outputs": [
    {
     "name": "stdout",
     "output_type": "stream",
     "text": [
      "payment_plan\n",
      "n    54230\n",
      "y        1\n",
      "Name: count, dtype: int64\n"
     ]
    }
   ],
   "source": [
    "# Evaluate payment_plan series.\n",
    "print(loans[\"payment_plan\"].value_counts())"
   ]
  },
  {
   "cell_type": "code",
   "execution_count": 39,
   "metadata": {},
   "outputs": [
    {
     "name": "stdout",
     "output_type": "stream",
     "text": [
      "The loan purpose given by the borrower was: \n",
      " Purpose                %\n",
      "purpose\n",
      "debt_consolidation    54.57\n",
      "credit_card           20.53\n",
      "other                  6.82\n",
      "home_improvement       5.93\n",
      "major_purchase         3.10\n",
      "small_business         2.42\n",
      "car                    1.88\n",
      "medical                1.16\n",
      "wedding                0.99\n",
      "moving                 0.84\n",
      "house                  0.65\n",
      "vacation               0.59\n",
      "educational            0.37\n",
      "renewable_energy       0.15\n",
      "Name: count, dtype: float64\n",
      "100.0\n"
     ]
    }
   ],
   "source": [
    "# Evaluate purpose series. \n",
    "pd.set_option(\"display.precision\", 2)\n",
    "category_percent_purpose = loans[\"purpose\"].value_counts()/len(loans[\"purpose\"].dropna())*100\n",
    "print(\"The loan purpose given by the borrower was: \\n Purpose                %\")\n",
    "print(category_percent_purpose)\n",
    "print(category_percent_purpose.sum().round(2))"
   ]
  },
  {
   "cell_type": "code",
   "execution_count": 40,
   "metadata": {},
   "outputs": [
    {
     "name": "stdout",
     "output_type": "stream",
     "text": [
      "object\n",
      "earliest_credit_line\n",
      "Oct-1999    434\n",
      "Oct-2000    420\n",
      "Nov-1999    410\n",
      "Nov-1998    408\n",
      "Nov-2000    405\n",
      "           ... \n",
      "Oct-1960      1\n",
      "Oct-1957      1\n",
      "Dec-1960      1\n",
      "May-1960      1\n",
      "May-1963      1\n",
      "Name: count, Length: 587, dtype: int64\n"
     ]
    }
   ],
   "source": [
    "# Evaluate earliest_credit_line\n",
    "print(loans[\"earliest_credit_line\"].dtypes)\n",
    "print(loans[\"earliest_credit_line\"].value_counts())"
   ]
  },
  {
   "cell_type": "code",
   "execution_count": 55,
   "metadata": {},
   "outputs": [
    {
     "name": "stdout",
     "output_type": "stream",
     "text": [
      "float64\n",
      "The number of unique entries is 101.\n",
      "mths_since_last_delinq\n",
      "9.0      2.049\n",
      "10.0     2.015\n",
      "0.0      1.933\n",
      "11.0     1.890\n",
      "13.0     1.877\n",
      "         ...  \n",
      "95.0     0.004\n",
      "122.0    0.004\n",
      "110.0    0.004\n",
      "135.0    0.004\n",
      "107.0    0.004\n",
      "Name: count, Length: 100, dtype: float64\n"
     ]
    }
   ],
   "source": [
    "# Evaluate mths_since_last_delinq.\n",
    "pd.set_option(\"display.precision\", 3)\n",
    "print(loans[\"mths_since_last_delinq\"].dtypes)\n",
    "unique_msld = len(loans[\"mths_since_last_delinq\"].unique())\n",
    "print(f\"The number of unique entries is {unique_msld}.\")\n",
    "category_percent_msld = loans[\"mths_since_last_delinq\"].value_counts()/len(loans[\"mths_since_last_delinq\"].dropna())*100\n",
    "print(category_percent_msld)"
   ]
  },
  {
   "cell_type": "code",
   "execution_count": 48,
   "metadata": {},
   "outputs": [
    {
     "name": "stdout",
     "output_type": "stream",
     "text": [
      "0      5\n",
      "1    NaT\n",
      "2     69\n",
      "3     74\n",
      "4     37\n",
      "Name: mths_since_last_delinq, dtype: object\n",
      "Numpy array first 5:\n",
      " [12960000000000000 NaT 178848000000000000 191808000000000000\n",
      " 95904000000000000]\n",
      "Pandas series first 5:\n",
      " 0     12960000000000000\n",
      "1                   NaT\n",
      "2    178848000000000000\n",
      "3    191808000000000000\n",
      "4     95904000000000000\n",
      "dtype: object\n"
     ]
    },
    {
     "data": {
      "text/plain": [
       "0    150 days 00:00:00\n",
       "1                  NaT\n",
       "2   2070 days 00:00:00\n",
       "3   2220 days 00:00:00\n",
       "4   1110 days 00:00:00\n",
       "dtype: timedelta64[s]"
      ]
     },
     "execution_count": 48,
     "metadata": {},
     "output_type": "execute_result"
    }
   ],
   "source": [
    "# Attempt to convert to timedelta. Complete but end use will determine the best datatype. \n",
    "import numpy as np\n",
    "from datetime import datetime\n",
    "msld_int = loans[\"mths_since_last_delinq\"].apply(lambda x: int(x) if not pd.isna(x) else pd.NaT).head(5)\n",
    "print(msld_int.head(5))\n",
    "\n",
    "days_in_month = 30\n",
    "msld_timedelta = np.where(loans[\"mths_since_last_delinq\"].notna(), pd.to_timedelta(loans[\"mths_since_last_delinq\"] * days_in_month, unit='D'), pd.NaT)\n",
    "\n",
    "print(\"Numpy array first 5:\\n\", msld_timedelta[0:5])\n",
    "msld_td_ser = pd.Series(msld_timedelta)\n",
    "print(f\"Pandas series first 5:\\n {msld_td_ser.head(5)}\")\n",
    "msld_td_ser.astype('timedelta64[s]').head(5)"
   ]
  },
  {
   "cell_type": "code",
   "execution_count": 51,
   "metadata": {},
   "outputs": [
    {
     "name": "stdout",
     "output_type": "stream",
     "text": [
      "<class 'pandas.core.series.Series'>\n",
      "Index: 54231 entries, 0 to 54230\n",
      "Series name: mths_since_last_record\n",
      "Non-Null Count  Dtype  \n",
      "--------------  -----  \n",
      "6181 non-null   float64\n",
      "dtypes: float64(1)\n",
      "memory usage: 847.4 KB\n"
     ]
    }
   ],
   "source": [
    "# Evaluate mths_since_last_record.\n",
    "loans[\"mths_since_last_record\"].info()"
   ]
  },
  {
   "cell_type": "code",
   "execution_count": 54,
   "metadata": {},
   "outputs": [
    {
     "data": {
      "text/plain": [
       "0    Jan-2022\n",
       "1    Jan-2022\n",
       "2    Oct-2021\n",
       "3    Jun-2021\n",
       "4    Jan-2022\n",
       "Name: last_payment_date, dtype: object"
      ]
     },
     "execution_count": 54,
     "metadata": {},
     "output_type": "execute_result"
    }
   ],
   "source": [
    "# Evaluate last_payment_date.\n",
    "loans[\"last_payment_date\"].head(5)"
   ]
  },
  {
   "cell_type": "code",
   "execution_count": 55,
   "metadata": {},
   "outputs": [
    {
     "data": {
      "text/plain": [
       "0      248.82\n",
       "1      407.52\n",
       "2    12850.16\n",
       "3    13899.67\n",
       "4      456.54\n",
       "Name: last_payment_amount, dtype: float64"
      ]
     },
     "execution_count": 55,
     "metadata": {},
     "output_type": "execute_result"
    }
   ],
   "source": [
    "# Evaluate last_payment_amount.\n",
    "loans[\"last_payment_amount\"].head(5)"
   ]
  },
  {
   "cell_type": "code",
   "execution_count": 56,
   "metadata": {},
   "outputs": [
    {
     "data": {
      "text/plain": [
       "0    Jan-2022\n",
       "1    Jan-2022\n",
       "2    Oct-2021\n",
       "3    Jun-2021\n",
       "4    Jan-2022\n",
       "Name: last_payment_date, dtype: object"
      ]
     },
     "execution_count": 56,
     "metadata": {},
     "output_type": "execute_result"
    }
   ],
   "source": [
    "# Evaluate next_payment_date.\n",
    "loans[\"last_payment_date\"].head(5)"
   ]
  },
  {
   "cell_type": "code",
   "execution_count": 57,
   "metadata": {},
   "outputs": [
    {
     "data": {
      "text/plain": [
       "0    Jan-2022\n",
       "1    Jan-2022\n",
       "2    Oct-2021\n",
       "3    Jun-2021\n",
       "4    Jan-2022\n",
       "Name: last_credit_pull_date, dtype: object"
      ]
     },
     "execution_count": 57,
     "metadata": {},
     "output_type": "execute_result"
    }
   ],
   "source": [
    "# Evaluate next_payment_date.\n",
    "loans[\"last_credit_pull_date\"].head(5)"
   ]
  },
  {
   "cell_type": "code",
   "execution_count": 59,
   "metadata": {},
   "outputs": [
    {
     "data": {
      "text/plain": [
       "collections_12_mths_ex_med\n",
       "0.0    53971\n",
       "1.0      193\n",
       "2.0       14\n",
       "3.0        1\n",
       "4.0        1\n",
       "Name: count, dtype: int64"
      ]
     },
     "execution_count": 59,
     "metadata": {},
     "output_type": "execute_result"
    }
   ],
   "source": [
    "# Evaluate collections_12_mths_ex_med\n",
    "loans[\"collections_12_mths_ex_med\"].value_counts()"
   ]
  },
  {
   "cell_type": "code",
   "execution_count": 60,
   "metadata": {},
   "outputs": [
    {
     "data": {
      "text/plain": [
       "0     5.0\n",
       "1     NaN\n",
       "2     NaN\n",
       "3     NaN\n",
       "4     NaN\n",
       "5     NaN\n",
       "6     NaN\n",
       "7    43.0\n",
       "8     NaN\n",
       "9     NaN\n",
       "Name: mths_since_last_major_derog, dtype: float64"
      ]
     },
     "execution_count": 60,
     "metadata": {},
     "output_type": "execute_result"
    }
   ],
   "source": [
    "# Evaluate mths_since_last_major_derog.\n",
    "loans[\"mths_since_last_major_derog\"].head(10)"
   ]
  },
  {
   "cell_type": "code",
   "execution_count": 63,
   "metadata": {},
   "outputs": [
    {
     "name": "stdout",
     "output_type": "stream",
     "text": [
      "0    1\n",
      "1    1\n",
      "2    1\n",
      "3    1\n",
      "4    1\n",
      "Name: policy_code, dtype: int64\n"
     ]
    },
    {
     "data": {
      "text/plain": [
       "policy_code\n",
       "1    54231\n",
       "Name: count, dtype: int64"
      ]
     },
     "execution_count": 63,
     "metadata": {},
     "output_type": "execute_result"
    }
   ],
   "source": [
    "# Evaluate policy_code\n",
    "print(loans[\"policy_code\"].head(5))\n",
    "loans[\"policy_code\"].value_counts()"
   ]
  },
  {
   "cell_type": "code",
   "execution_count": 64,
   "metadata": {},
   "outputs": [
    {
     "name": "stdout",
     "output_type": "stream",
     "text": [
      "0    INDIVIDUAL\n",
      "1    INDIVIDUAL\n",
      "2    INDIVIDUAL\n",
      "3    INDIVIDUAL\n",
      "4    INDIVIDUAL\n",
      "Name: application_type, dtype: object\n"
     ]
    },
    {
     "data": {
      "text/plain": [
       "application_type\n",
       "INDIVIDUAL    54231\n",
       "Name: count, dtype: int64"
      ]
     },
     "execution_count": 64,
     "metadata": {},
     "output_type": "execute_result"
    }
   ],
   "source": [
    "# Evaluate application_type\n",
    "print(loans[\"application_type\"].head())\n",
    "loans[\"application_type\"].value_counts()"
   ]
  }
 ],
 "metadata": {
  "kernelspec": {
   "display_name": "base",
   "language": "python",
   "name": "python3"
  },
  "language_info": {
   "codemirror_mode": {
    "name": "ipython",
    "version": 3
   },
   "file_extension": ".py",
   "mimetype": "text/x-python",
   "name": "python",
   "nbconvert_exporter": "python",
   "pygments_lexer": "ipython3",
   "version": "3.11.6"
  }
 },
 "nbformat": 4,
 "nbformat_minor": 2
}
