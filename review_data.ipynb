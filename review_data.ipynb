{
 "cells": [
  {
   "cell_type": "code",
   "execution_count": 1,
   "metadata": {},
   "outputs": [
    {
     "name": "stdout",
     "output_type": "stream",
     "text": [
      "(54231, 43)\n"
     ]
    }
   ],
   "source": [
    "import pandas as pd\n",
    "\n",
    "def load_data():\n",
    "    loans = pd.read_csv(\"loan_payments.csv\", index_col=0)\n",
    "    return loans\n",
    "\n",
    "loans = load_data()\n",
    "\n",
    "print(loans.shape)\n"
   ]
  },
  {
   "cell_type": "code",
   "execution_count": 3,
   "metadata": {},
   "outputs": [
    {
     "name": "stdout",
     "output_type": "stream",
     "text": [
      "         id  member_id  loan_amount  funded_amount  funded_amount_inv\n",
      "0  38676116   41461848         8000         8000.0             8000.0\n",
      "1  38656203   41440010        13200        13200.0            13200.0\n",
      "        term  int_rate  instalment grade sub_grade employment_length\n",
      "0  36 months      7.49      248.82     A        A4           5 years\n",
      "1  36 months      6.99      407.52     A        A3           9 years\n",
      "  home_ownership  annual_inc verification_status issue_date loan_status\n",
      "0       MORTGAGE     46000.0        Not Verified   Jan-2021     Current\n",
      "1           RENT     50000.0        Not Verified   Jan-2021     Current\n",
      "  payment_plan      purpose    dti  delinq_2yrs earliest_credit_line\n",
      "0            n  credit_card  19.54            2             Oct-1987\n",
      "1            n  credit_card  24.20            0             Sep-2001\n"
     ]
    }
   ],
   "source": [
    "slice_1 = loans.iloc[0:2, 0:5]\n",
    "slice_2 = loans.iloc[0:2, 5:11]\n",
    "slice_3 = loans.iloc[0:2, 11:16]\n",
    "slice_4 = loans.iloc[0:2, 16:21]\n",
    "print(slice_1)\n",
    "print(slice_2)\n",
    "print(slice_3)\n",
    "print(slice_4)"
   ]
  },
  {
   "cell_type": "code",
   "execution_count": 3,
   "metadata": {},
   "outputs": [
    {
     "name": "stdout",
     "output_type": "stream",
     "text": [
      "<class 'pandas.core.frame.DataFrame'>\n",
      "Index: 54231 entries, 0 to 54230\n",
      "Data columns (total 43 columns):\n",
      " #   Column                       Non-Null Count  Dtype  \n",
      "---  ------                       --------------  -----  \n",
      " 0   id                           54231 non-null  int64  \n",
      " 1   member_id                    54231 non-null  int64  \n",
      " 2   loan_amount                  54231 non-null  int64  \n",
      " 3   funded_amount                51224 non-null  float64\n",
      " 4   funded_amount_inv            54231 non-null  float64\n",
      " 5   term                         49459 non-null  object \n",
      " 6   int_rate                     49062 non-null  float64\n",
      " 7   instalment                   54231 non-null  float64\n",
      " 8   grade                        54231 non-null  object \n",
      " 9   sub_grade                    54231 non-null  object \n",
      " 10  employment_length            52113 non-null  object \n",
      " 11  home_ownership               54231 non-null  object \n",
      " 12  annual_inc                   54231 non-null  float64\n",
      " 13  verification_status          54231 non-null  object \n",
      " 14  issue_date                   54231 non-null  object \n",
      " 15  loan_status                  54231 non-null  object \n",
      " 16  payment_plan                 54231 non-null  object \n",
      " 17  purpose                      54231 non-null  object \n",
      " 18  dti                          54231 non-null  float64\n",
      " 19  delinq_2yrs                  54231 non-null  int64  \n",
      " 20  earliest_credit_line         54231 non-null  object \n",
      " 21  inq_last_6mths               54231 non-null  int64  \n",
      " 22  mths_since_last_delinq       23229 non-null  float64\n",
      " 23  mths_since_last_record       6181 non-null   float64\n",
      " 24  open_accounts                54231 non-null  int64  \n",
      " 25  total_accounts               54231 non-null  int64  \n",
      " 26  out_prncp                    54231 non-null  float64\n",
      " 27  out_prncp_inv                54231 non-null  float64\n",
      " 28  total_payment                54231 non-null  float64\n",
      " 29  total_payment_inv            54231 non-null  float64\n",
      " 30  total_rec_prncp              54231 non-null  float64\n",
      " 31  total_rec_int                54231 non-null  float64\n",
      " 32  total_rec_late_fee           54231 non-null  float64\n",
      " 33  recoveries                   54231 non-null  float64\n",
      " 34  collection_recovery_fee      54231 non-null  float64\n",
      " 35  last_payment_date            54158 non-null  object \n",
      " 36  last_payment_amount          54231 non-null  float64\n",
      " 37  next_payment_date            21623 non-null  object \n",
      " 38  last_credit_pull_date        54224 non-null  object \n",
      " 39  collections_12_mths_ex_med   54180 non-null  float64\n",
      " 40  mths_since_last_major_derog  7499 non-null   float64\n",
      " 41  policy_code                  54231 non-null  int64  \n",
      " 42  application_type             54231 non-null  object \n",
      "dtypes: float64(20), int64(8), object(15)\n",
      "memory usage: 18.2+ MB\n"
     ]
    }
   ],
   "source": [
    "loans.info()"
   ]
  },
  {
   "cell_type": "code",
   "execution_count": 4,
   "metadata": {},
   "outputs": [
    {
     "name": "stdout",
     "output_type": "stream",
     "text": [
      "id                              0.00\n",
      "member_id                       0.00\n",
      "loan_amount                     0.00\n",
      "funded_amount                   5.54\n",
      "funded_amount_inv               0.00\n",
      "term                            8.80\n",
      "int_rate                        9.53\n",
      "instalment                      0.00\n",
      "grade                           0.00\n",
      "sub_grade                       0.00\n",
      "employment_length               3.91\n",
      "home_ownership                  0.00\n",
      "annual_inc                      0.00\n",
      "verification_status             0.00\n",
      "issue_date                      0.00\n",
      "loan_status                     0.00\n",
      "payment_plan                    0.00\n",
      "purpose                         0.00\n",
      "dti                             0.00\n",
      "delinq_2yrs                     0.00\n",
      "earliest_credit_line            0.00\n",
      "inq_last_6mths                  0.00\n",
      "mths_since_last_delinq         57.17\n",
      "mths_since_last_record         88.60\n",
      "open_accounts                   0.00\n",
      "total_accounts                  0.00\n",
      "out_prncp                       0.00\n",
      "out_prncp_inv                   0.00\n",
      "total_payment                   0.00\n",
      "total_payment_inv               0.00\n",
      "total_rec_prncp                 0.00\n",
      "total_rec_int                   0.00\n",
      "total_rec_late_fee              0.00\n",
      "recoveries                      0.00\n",
      "collection_recovery_fee         0.00\n",
      "last_payment_date               0.13\n",
      "last_payment_amount             0.00\n",
      "next_payment_date              60.13\n",
      "last_credit_pull_date           0.01\n",
      "collections_12_mths_ex_med      0.09\n",
      "mths_since_last_major_derog    86.17\n",
      "policy_code                     0.00\n",
      "application_type                0.00\n",
      "dtype: float64\n"
     ]
    }
   ],
   "source": [
    "# Calculate the percentage of missing values in each column. \n",
    "print(((loans.isnull().mean()).round(4)) * 100)"
   ]
  }
 ],
 "metadata": {
  "kernelspec": {
   "display_name": "base",
   "language": "python",
   "name": "python3"
  },
  "language_info": {
   "codemirror_mode": {
    "name": "ipython",
    "version": 3
   },
   "file_extension": ".py",
   "mimetype": "text/x-python",
   "name": "python",
   "nbconvert_exporter": "python",
   "pygments_lexer": "ipython3",
   "version": "3.11.4"
  }
 },
 "nbformat": 4,
 "nbformat_minor": 2
}
