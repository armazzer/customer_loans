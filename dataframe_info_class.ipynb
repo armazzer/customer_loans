{
 "cells": [
  {
   "cell_type": "code",
   "execution_count": 1,
   "metadata": {},
   "outputs": [],
   "source": [
    "import pandas as pd\n",
    "import transformed_data as data"
   ]
  },
  {
   "cell_type": "code",
   "execution_count": 2,
   "metadata": {},
   "outputs": [
    {
     "name": "stdout",
     "output_type": "stream",
     "text": [
      "(54231, 43)\n",
      "<class 'pandas.core.frame.DataFrame'>\n",
      "Index: 54231 entries, 0 to 54230\n",
      "Data columns (total 43 columns):\n",
      " #   Column                       Non-Null Count  Dtype         \n",
      "---  ------                       --------------  -----         \n",
      " 0   id                           54231 non-null  int64         \n",
      " 1   member_id                    54231 non-null  int64         \n",
      " 2   loan_amount                  54231 non-null  int64         \n",
      " 3   funded_amount                51224 non-null  float64       \n",
      " 4   funded_amount_inv            54231 non-null  float64       \n",
      " 5   term_months                  49459 non-null  float64       \n",
      " 6   int_rate                     49062 non-null  float64       \n",
      " 7   instalment                   54231 non-null  float64       \n",
      " 8   grade                        54231 non-null  category      \n",
      " 9   sub_grade                    54231 non-null  category      \n",
      " 10  employment_years             52113 non-null  category      \n",
      " 11  home_ownership               54231 non-null  category      \n",
      " 12  annual_inc                   54231 non-null  float64       \n",
      " 13  verification_status          54231 non-null  object        \n",
      " 14  issue_date                   54231 non-null  datetime64[ns]\n",
      " 15  loan_status                  54231 non-null  object        \n",
      " 16  payment_plan                 54231 non-null  category      \n",
      " 17  purpose                      54231 non-null  object        \n",
      " 18  dti                          54231 non-null  float64       \n",
      " 19  delinq_2yrs                  54231 non-null  int64         \n",
      " 20  earliest_credit_line         54231 non-null  datetime64[ns]\n",
      " 21  inq_last_6mths               54231 non-null  int64         \n",
      " 22  mths_since_last_delinq       23229 non-null  timedelta64[s]\n",
      " 23  mths_since_last_record       6181 non-null   timedelta64[s]\n",
      " 24  open_accounts                54231 non-null  int64         \n",
      " 25  total_accounts               54231 non-null  int64         \n",
      " 26  out_prncp                    54231 non-null  float64       \n",
      " 27  out_prncp_inv                54231 non-null  float64       \n",
      " 28  total_payment                54231 non-null  float64       \n",
      " 29  total_payment_inv            54231 non-null  float64       \n",
      " 30  total_rec_prncp              54231 non-null  float64       \n",
      " 31  total_rec_int                54231 non-null  float64       \n",
      " 32  total_rec_late_fee           54231 non-null  float64       \n",
      " 33  recoveries                   54231 non-null  float64       \n",
      " 34  collection_recovery_fee      54231 non-null  float64       \n",
      " 35  last_payment_date            54158 non-null  datetime64[ns]\n",
      " 36  last_payment_amount          54231 non-null  float64       \n",
      " 37  next_payment_date            21623 non-null  datetime64[ns]\n",
      " 38  last_credit_pull_date        54224 non-null  datetime64[ns]\n",
      " 39  collections_12_mths_ex_med   54180 non-null  float64       \n",
      " 40  mths_since_last_major_derog  7499 non-null   timedelta64[s]\n",
      " 41  policy_code                  54231 non-null  int64         \n",
      " 42  application_type             54231 non-null  object        \n",
      "dtypes: category(5), datetime64[ns](5), float64(18), int64(8), object(4), timedelta64[s](3)\n",
      "memory usage: 16.4+ MB\n",
      "None\n"
     ]
    }
   ],
   "source": [
    "loans = data.loans\n",
    "print(loans.shape)\n",
    "print(loans.info())"
   ]
  },
  {
   "cell_type": "markdown",
   "metadata": {},
   "source": [
    "## Possible class methods:\n",
    "- Describe all columns in the DataFrame to check their data types - dtypes method\n",
    "- Extract statistical values: median, standard deviation and mean from the columns and the DataFrame\n",
    "- Count distinct values in categorical columns - distinct method\n",
    "- Print out the shape of the DataFrame - shape method\n",
    "- Generate a count/percentage count of NULL values in each column - percent_na method\n",
    "- Any other methods you may find useful"
   ]
  },
  {
   "cell_type": "code",
   "execution_count": 4,
   "metadata": {},
   "outputs": [],
   "source": [
    "class DataFrameInfo():\n",
    "    def __init__(self, data):\n",
    "        self.data = data\n",
    "\n",
    "    def percent_na(self):\n",
    "        pd.set_option(\"display.precision\", 2)\n",
    "        missing_values = ((self.data.isnull().mean()).round(4)) * 100\n",
    "        missing_values_only = missing_values[missing_values > 0]\n",
    "        print(\"Column               Missing values (%) \\n\", missing_values_only)\n",
    "\n",
    "    def shape(self):\n",
    "        shape = self.data.shape\n",
    "        print(f\"The shape of the dataframe or array is: {shape}\")\n",
    "\n",
    "    def distinct(self, column):\n",
    "        distinct_cats = list(self.data[column].dropna().unique())\n",
    "        print(\"Number of categories (excluding nulls):\", len(list(distinct_cats)))\n",
    "        print(\"Distinct categories:\", *distinct_cats, sep='\\n')\n",
    "\n",
    "    def dtypes(self):\n",
    "        dtypes = self.data.dtypes\n",
    "        print(\"Column                        Data type \\n\", dtypes)\n",
    "\n",
    "    def df_summary_stats(self):\n",
    "        pd.set_option(\"display.precision\", 2)\n",
    "        df_stats = self.data.dropna().describe()\n",
    "        print(df_stats)\n",
    "\n",
    "    def column_summary_stats(self, column):\n",
    "        pd.set_option(\"display.precision\", 2)\n",
    "        col_stats = self.data[column].dropna().describe()\n",
    "        print(col_stats)\n",
    "\n",
    "    def column_stats(self, column):\n",
    "        pd.set_option(\"display.precision\", 4)\n",
    "        mean = round(self.data[column].mean(), 3)\n",
    "        median = round(self.data[column].median(), 3)\n",
    "        mode = round(self.data[column].mode(), 3)\n",
    "        stdev = round(self.data[column].std(), 3)\n",
    "        print(f\"{column}: \\n mean: {mean} \\n median: {median} \\n mode: {mode.iloc[0] if len(list(mode)) == 1 else list(mode)} \\n standard deviation: {stdev}\")"
   ]
  },
  {
   "cell_type": "code",
   "execution_count": 5,
   "metadata": {},
   "outputs": [],
   "source": [
    "# Create an instance of the DataFrameInfo class.\n",
    "loans_info = DataFrameInfo(loans)"
   ]
  },
  {
   "cell_type": "code",
   "execution_count": 6,
   "metadata": {},
   "outputs": [
    {
     "name": "stdout",
     "output_type": "stream",
     "text": [
      "Column               Missing values (%) \n",
      " funded_amount                   5.54\n",
      "term_months                     8.80\n",
      "int_rate                        9.53\n",
      "employment_years                3.91\n",
      "mths_since_last_delinq         57.17\n",
      "mths_since_last_record         88.60\n",
      "last_payment_date               0.13\n",
      "next_payment_date              60.13\n",
      "last_credit_pull_date           0.01\n",
      "collections_12_mths_ex_med      0.09\n",
      "mths_since_last_major_derog    86.17\n",
      "dtype: float64\n"
     ]
    }
   ],
   "source": [
    "# Calculate the percentage of missing values in each column, only display results with missing values. \n",
    "loans_info.percent_na()"
   ]
  },
  {
   "cell_type": "code",
   "execution_count": 162,
   "metadata": {},
   "outputs": [
    {
     "name": "stdout",
     "output_type": "stream",
     "text": [
      "The shape of the dataframe or array is: (54231, 43)\n"
     ]
    }
   ],
   "source": [
    "# Print the shape of the dataframe.\n",
    "loans_info.shape()"
   ]
  },
  {
   "cell_type": "code",
   "execution_count": 98,
   "metadata": {},
   "outputs": [
    {
     "name": "stdout",
     "output_type": "stream",
     "text": [
      "Number of categories (excluding nulls): 11\n",
      "Distinct categories:\n",
      "5 years\n",
      "9 years\n",
      "8 years\n",
      "1 year\n",
      "10+ years\n",
      "< 1 year\n",
      "7 years\n",
      "3 years\n",
      "4 years\n",
      "6 years\n",
      "2 years\n"
     ]
    }
   ],
   "source": [
    "# Print the number of distinct categories in a series, and list the categories. \n",
    "loans_info.distinct(\"employment_years\")"
   ]
  },
  {
   "cell_type": "code",
   "execution_count": 143,
   "metadata": {},
   "outputs": [
    {
     "name": "stdout",
     "output_type": "stream",
     "text": [
      "funded_amount: \n",
      " mean: 13229.509 \n",
      " median: 12000.0 \n",
      " mode: 10000.0 \n",
      " standard deviation: 8019.018\n"
     ]
    }
   ],
   "source": [
    "# Find mean, median, mode and stdev of column.\n",
    "loans_info.column_stats(\"funded_amount\")"
   ]
  },
  {
   "cell_type": "code",
   "execution_count": 171,
   "metadata": {},
   "outputs": [
    {
     "name": "stdout",
     "output_type": "stream",
     "text": [
      "             id  member_id  loan_amount  funded_amount  funded_amount_inv  \\\n",
      "count  4.23e+02   4.23e+02        423.0          423.0             423.00   \n",
      "mean   1.89e+07   2.08e+07      12107.8        12107.8           12104.08   \n",
      "std    1.43e+07   1.50e+07       6919.9         6919.9            6918.39   \n",
      "min    5.64e+06   1.07e+06       1000.0         1000.0            1000.00   \n",
      "25%    7.73e+06   9.36e+06       7200.0         7200.0            7200.00   \n",
      "50%    9.23e+06   1.10e+07      10075.0        10075.0           10075.00   \n",
      "75%    3.80e+07   4.08e+07      15000.0        15000.0           15000.00   \n",
      "max    3.86e+07   4.14e+07      35000.0        35000.0           35000.00   \n",
      "\n",
      "       term_months  int_rate  instalment  annual_inc     dti  ...  \\\n",
      "count       423.00    423.00      423.00      423.00  423.00  ...   \n",
      "mean         41.96     14.79      376.24    74919.60   16.03  ...   \n",
      "std          10.38      3.89      209.09    42489.46    8.05  ...   \n",
      "min          36.00      6.49       35.73    18000.00    1.53  ...   \n",
      "25%          36.00     11.99      244.18    47670.00    9.62  ...   \n",
      "50%          36.00     14.30      333.82    64000.00   15.69  ...   \n",
      "75%          36.00     17.76      466.67    86651.00   20.91  ...   \n",
      "max          60.00     25.89     1304.30   300000.00   39.71  ...   \n",
      "\n",
      "       total_payment_inv  total_rec_prncp total_rec_int total_rec_late_fee  \\\n",
      "count             423.00           423.00        423.00             423.00   \n",
      "mean             7964.80          5373.70       2592.77               0.47   \n",
      "std              5368.48          3638.41       2384.43               3.41   \n",
      "min               426.86           278.57        148.29               0.00   \n",
      "25%              4211.01          2777.31       1079.97               0.00   \n",
      "50%              6714.62          4557.04       1897.02               0.00   \n",
      "75%             10025.81          6928.60       3158.91               0.00   \n",
      "max             35215.66         24191.24      15458.24              40.35   \n",
      "\n",
      "       recoveries  collection_recovery_fee  last_payment_amount  \\\n",
      "count       423.0                    423.0               423.00   \n",
      "mean          0.0                      0.0               390.70   \n",
      "std           0.0                      0.0               277.18   \n",
      "min           0.0                      0.0                35.73   \n",
      "25%           0.0                      0.0               244.18   \n",
      "50%           0.0                      0.0               335.12   \n",
      "75%           0.0                      0.0               477.44   \n",
      "max           0.0                      0.0              3899.61   \n",
      "\n",
      "       collections_12_mths_ex_med  mths_since_last_major_derog  policy_code  \n",
      "count                      423.00                          423        423.0  \n",
      "mean                         0.03           1442 days 08:10:12          1.0  \n",
      "std                          0.17            654 days 04:11:32          0.0  \n",
      "min                          0.00             30 days 00:00:00          1.0  \n",
      "25%                          0.00            960 days 00:00:00          1.0  \n",
      "50%                          0.00           1440 days 00:00:00          1.0  \n",
      "75%                          0.00           1965 days 00:00:00          1.0  \n",
      "max                          2.00           4050 days 00:00:00          1.0  \n",
      "\n",
      "[8 rows x 29 columns]\n"
     ]
    }
   ],
   "source": [
    "# Print dataframe summary stats.\n",
    "loans_info.df_summary_stats()"
   ]
  },
  {
   "cell_type": "code",
   "execution_count": 172,
   "metadata": {},
   "outputs": [
    {
     "name": "stdout",
     "output_type": "stream",
     "text": [
      "count    54231.00\n",
      "mean     13333.08\n",
      "std       8082.20\n",
      "min        500.00\n",
      "25%       7000.00\n",
      "50%      12000.00\n",
      "75%      18000.00\n",
      "max      35000.00\n",
      "Name: loan_amount, dtype: float64\n"
     ]
    }
   ],
   "source": [
    "# Print column summary stats.\n",
    "loans_info.column_summary_stats(\"loan_amount\")"
   ]
  },
  {
   "cell_type": "code",
   "execution_count": 108,
   "metadata": {},
   "outputs": [
    {
     "name": "stdout",
     "output_type": "stream",
     "text": [
      "Column                        Data type \n",
      " id                                      int64\n",
      "member_id                               int64\n",
      "loan_amount                             int64\n",
      "funded_amount                         float64\n",
      "funded_amount_inv                     float64\n",
      "term_months                           float64\n",
      "int_rate                              float64\n",
      "instalment                            float64\n",
      "grade                                category\n",
      "sub_grade                            category\n",
      "employment_years                     category\n",
      "home_ownership                       category\n",
      "annual_inc                            float64\n",
      "verification_status                    object\n",
      "issue_date                             object\n",
      "loan_status                            object\n",
      "payment_plan                         category\n",
      "purpose                                object\n",
      "dti                                   float64\n",
      "delinq_2yrs                             int64\n",
      "earliest_credit_line                   object\n",
      "inq_last_6mths                          int64\n",
      "mths_since_last_delinq         timedelta64[s]\n",
      "mths_since_last_record         timedelta64[s]\n",
      "open_accounts                           int64\n",
      "total_accounts                          int64\n",
      "out_prncp                             float64\n",
      "out_prncp_inv                         float64\n",
      "total_payment                         float64\n",
      "total_payment_inv                     float64\n",
      "total_rec_prncp                       float64\n",
      "total_rec_int                         float64\n",
      "total_rec_late_fee                    float64\n",
      "recoveries                            float64\n",
      "collection_recovery_fee               float64\n",
      "last_payment_date                      object\n",
      "last_payment_amount                   float64\n",
      "next_payment_date                      object\n",
      "last_credit_pull_date                  object\n",
      "collections_12_mths_ex_med            float64\n",
      "mths_since_last_major_derog    timedelta64[s]\n",
      "policy_code                             int64\n",
      "application_type                       object\n",
      "dtype: object\n"
     ]
    }
   ],
   "source": [
    "# Print dataframe datatypes.\n",
    "loans_info.dtypes()"
   ]
  }
 ],
 "metadata": {
  "kernelspec": {
   "display_name": "base",
   "language": "python",
   "name": "python3"
  },
  "language_info": {
   "codemirror_mode": {
    "name": "ipython",
    "version": 3
   },
   "file_extension": ".py",
   "mimetype": "text/x-python",
   "name": "python",
   "nbconvert_exporter": "python",
   "pygments_lexer": "ipython3",
   "version": "3.11.6"
  }
 },
 "nbformat": 4,
 "nbformat_minor": 2
}
